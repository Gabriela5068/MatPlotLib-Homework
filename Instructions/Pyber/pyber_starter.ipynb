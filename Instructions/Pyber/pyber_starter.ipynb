{
 "cells": [
  {
   "cell_type": "code",
   "execution_count": 8,
   "metadata": {},
   "outputs": [
    {
     "data": {
      "text/html": [
       "<div>\n",
       "<style scoped>\n",
       "    .dataframe tbody tr th:only-of-type {\n",
       "        vertical-align: middle;\n",
       "    }\n",
       "\n",
       "    .dataframe tbody tr th {\n",
       "        vertical-align: top;\n",
       "    }\n",
       "\n",
       "    .dataframe thead th {\n",
       "        text-align: right;\n",
       "    }\n",
       "</style>\n",
       "<table border=\"1\" class=\"dataframe\">\n",
       "  <thead>\n",
       "    <tr style=\"text-align: right;\">\n",
       "      <th></th>\n",
       "      <th>city</th>\n",
       "      <th>date</th>\n",
       "      <th>fare</th>\n",
       "      <th>ride_id</th>\n",
       "      <th>driver_count</th>\n",
       "      <th>type</th>\n",
       "    </tr>\n",
       "  </thead>\n",
       "  <tbody>\n",
       "    <tr>\n",
       "      <th>0</th>\n",
       "      <td>Lake Jonathanshire</td>\n",
       "      <td>2018-01-14 10:14:22</td>\n",
       "      <td>13.83</td>\n",
       "      <td>5739410935873</td>\n",
       "      <td>5</td>\n",
       "      <td>Urban</td>\n",
       "    </tr>\n",
       "    <tr>\n",
       "      <th>24</th>\n",
       "      <td>South Michelleport</td>\n",
       "      <td>2018-03-04 18:24:09</td>\n",
       "      <td>30.24</td>\n",
       "      <td>2343912425577</td>\n",
       "      <td>72</td>\n",
       "      <td>Urban</td>\n",
       "    </tr>\n",
       "    <tr>\n",
       "      <th>55</th>\n",
       "      <td>Port Samanthamouth</td>\n",
       "      <td>2018-02-24 04:29:00</td>\n",
       "      <td>33.44</td>\n",
       "      <td>2005065760003</td>\n",
       "      <td>57</td>\n",
       "      <td>Urban</td>\n",
       "    </tr>\n",
       "    <tr>\n",
       "      <th>80</th>\n",
       "      <td>Rodneyfort</td>\n",
       "      <td>2018-02-10 23:22:03</td>\n",
       "      <td>23.44</td>\n",
       "      <td>5149245426178</td>\n",
       "      <td>34</td>\n",
       "      <td>Urban</td>\n",
       "    </tr>\n",
       "    <tr>\n",
       "      <th>103</th>\n",
       "      <td>South Jack</td>\n",
       "      <td>2018-03-06 04:28:35</td>\n",
       "      <td>34.58</td>\n",
       "      <td>3908451377344</td>\n",
       "      <td>46</td>\n",
       "      <td>Urban</td>\n",
       "    </tr>\n",
       "    <tr>\n",
       "      <th>122</th>\n",
       "      <td>South Latoya</td>\n",
       "      <td>2018-03-11 12:26:48</td>\n",
       "      <td>9.52</td>\n",
       "      <td>1994999424437</td>\n",
       "      <td>10</td>\n",
       "      <td>Urban</td>\n",
       "    </tr>\n",
       "    <tr>\n",
       "      <th>141</th>\n",
       "      <td>New Paulville</td>\n",
       "      <td>2018-02-27 11:17:56</td>\n",
       "      <td>43.25</td>\n",
       "      <td>793208410091</td>\n",
       "      <td>44</td>\n",
       "      <td>Urban</td>\n",
       "    </tr>\n",
       "    <tr>\n",
       "      <th>163</th>\n",
       "      <td>Simpsonburgh</td>\n",
       "      <td>2018-04-26 00:43:24</td>\n",
       "      <td>35.98</td>\n",
       "      <td>111953927754</td>\n",
       "      <td>21</td>\n",
       "      <td>Urban</td>\n",
       "    </tr>\n",
       "    <tr>\n",
       "      <th>187</th>\n",
       "      <td>South Karenland</td>\n",
       "      <td>2018-01-08 03:28:48</td>\n",
       "      <td>35.09</td>\n",
       "      <td>7995623208694</td>\n",
       "      <td>4</td>\n",
       "      <td>Urban</td>\n",
       "    </tr>\n",
       "    <tr>\n",
       "      <th>225</th>\n",
       "      <td>North Jasmine</td>\n",
       "      <td>2018-03-09 06:26:29</td>\n",
       "      <td>42.81</td>\n",
       "      <td>5327642267789</td>\n",
       "      <td>33</td>\n",
       "      <td>Urban</td>\n",
       "    </tr>\n",
       "  </tbody>\n",
       "</table>\n",
       "</div>"
      ],
      "text/plain": [
       "                   city                 date   fare        ride_id  \\\n",
       "0    Lake Jonathanshire  2018-01-14 10:14:22  13.83  5739410935873   \n",
       "24   South Michelleport  2018-03-04 18:24:09  30.24  2343912425577   \n",
       "55   Port Samanthamouth  2018-02-24 04:29:00  33.44  2005065760003   \n",
       "80           Rodneyfort  2018-02-10 23:22:03  23.44  5149245426178   \n",
       "103          South Jack  2018-03-06 04:28:35  34.58  3908451377344   \n",
       "122        South Latoya  2018-03-11 12:26:48   9.52  1994999424437   \n",
       "141       New Paulville  2018-02-27 11:17:56  43.25   793208410091   \n",
       "163        Simpsonburgh  2018-04-26 00:43:24  35.98   111953927754   \n",
       "187     South Karenland  2018-01-08 03:28:48  35.09  7995623208694   \n",
       "225       North Jasmine  2018-03-09 06:26:29  42.81  5327642267789   \n",
       "\n",
       "     driver_count   type  \n",
       "0               5  Urban  \n",
       "24             72  Urban  \n",
       "55             57  Urban  \n",
       "80             34  Urban  \n",
       "103            46  Urban  \n",
       "122            10  Urban  \n",
       "141            44  Urban  \n",
       "163            21  Urban  \n",
       "187             4  Urban  \n",
       "225            33  Urban  "
      ]
     },
     "execution_count": 8,
     "metadata": {},
     "output_type": "execute_result"
    }
   ],
   "source": [
    "%matplotlib inline\n",
    "# Dependencies and Setup\n",
    "import matplotlib.pyplot as plt\n",
    "import pandas as pd\n",
    "import numpy as np\n",
    "\n",
    "# File to Load (Remember to change these)\n",
    "city_data_to_load = \"data/city_data.csv\"\n",
    "ride_data_to_load = \"data/ride_data.csv\"\n",
    "\n",
    "# Read the City and Ride Data\n",
    "city_data = pd.read_csv(city_data_to_load)\n",
    "ride_data = pd.read_csv(ride_data_to_load)\n",
    "\n",
    "# Combine the data into a single dataset\n",
    "merge_table = pd.merge(ride_data, city_data, on=\"city\", how=\"outer\")\n",
    "\n",
    "# Display the data table for preview\n",
    "no_duplicates = merge_table.drop_duplicates(subset =[\"city\"], keep = \"first\")\n",
    "\n",
    "no_duplicates.head(10)"
   ]
  },
  {
   "cell_type": "markdown",
   "metadata": {},
   "source": [
    "## Bubble Plot of Ride Sharing Data"
   ]
  },
  {
   "cell_type": "markdown",
   "metadata": {},
   "source": [
    "URBAN DATA"
   ]
  },
  {
   "cell_type": "code",
   "execution_count": 9,
   "metadata": {},
   "outputs": [
    {
     "data": {
      "text/html": [
       "<div>\n",
       "<style scoped>\n",
       "    .dataframe tbody tr th:only-of-type {\n",
       "        vertical-align: middle;\n",
       "    }\n",
       "\n",
       "    .dataframe tbody tr th {\n",
       "        vertical-align: top;\n",
       "    }\n",
       "\n",
       "    .dataframe thead th {\n",
       "        text-align: right;\n",
       "    }\n",
       "</style>\n",
       "<table border=\"1\" class=\"dataframe\">\n",
       "  <thead>\n",
       "    <tr style=\"text-align: right;\">\n",
       "      <th></th>\n",
       "      <th>Total Rides</th>\n",
       "      <th>Fare Sum</th>\n",
       "      <th>Avg Fare</th>\n",
       "    </tr>\n",
       "    <tr>\n",
       "      <th>city</th>\n",
       "      <th></th>\n",
       "      <th></th>\n",
       "      <th></th>\n",
       "    </tr>\n",
       "  </thead>\n",
       "  <tbody>\n",
       "    <tr>\n",
       "      <th>Amandaburgh</th>\n",
       "      <td>18</td>\n",
       "      <td>443.55</td>\n",
       "      <td>24.641667</td>\n",
       "    </tr>\n",
       "    <tr>\n",
       "      <th>Barajasview</th>\n",
       "      <td>22</td>\n",
       "      <td>557.31</td>\n",
       "      <td>25.332273</td>\n",
       "    </tr>\n",
       "  </tbody>\n",
       "</table>\n",
       "</div>"
      ],
      "text/plain": [
       "             Total Rides  Fare Sum   Avg Fare\n",
       "city                                         \n",
       "Amandaburgh           18    443.55  24.641667\n",
       "Barajasview           22    557.31  25.332273"
      ]
     },
     "execution_count": 9,
     "metadata": {},
     "output_type": "execute_result"
    }
   ],
   "source": [
    "urban_data = merge_table.loc[merge_table[\"type\"] == \"Urban\", :]\n",
    "urban_data_noduplicates = no_duplicates.loc[merge_table[\"type\"] == \"Urban\", :]\n",
    "citygrouped = urban_data.groupby([\"city\"])\n",
    "cities = citygrouped[\"ride_id\"].count()\n",
    "fare_sum = citygrouped[\"fare\"].sum()\n",
    "avg_fare = fare_sum / cities \n",
    "driver_count = urban_data_noduplicates[\"driver_count\"].sum()\n",
    "\n",
    "urban_analysis = pd.DataFrame({\"Total Rides\":cities, \"Fare Sum\":fare_sum, \"Avg Fare\":avg_fare})\n",
    "urban_analysis.head(2)\n"
   ]
  },
  {
   "cell_type": "code",
   "execution_count": 10,
   "metadata": {},
   "outputs": [
    {
     "data": {
      "text/html": [
       "<div>\n",
       "<style scoped>\n",
       "    .dataframe tbody tr th:only-of-type {\n",
       "        vertical-align: middle;\n",
       "    }\n",
       "\n",
       "    .dataframe tbody tr th {\n",
       "        vertical-align: top;\n",
       "    }\n",
       "\n",
       "    .dataframe thead th {\n",
       "        text-align: right;\n",
       "    }\n",
       "</style>\n",
       "<table border=\"1\" class=\"dataframe\">\n",
       "  <thead>\n",
       "    <tr style=\"text-align: right;\">\n",
       "      <th></th>\n",
       "      <th>city</th>\n",
       "      <th>date</th>\n",
       "      <th>fare</th>\n",
       "      <th>ride_id</th>\n",
       "      <th>driver_count</th>\n",
       "      <th>type</th>\n",
       "      <th>Total Rides</th>\n",
       "      <th>Fare Sum</th>\n",
       "      <th>Avg Fare</th>\n",
       "    </tr>\n",
       "  </thead>\n",
       "  <tbody>\n",
       "    <tr>\n",
       "      <th>0</th>\n",
       "      <td>Lake Jonathanshire</td>\n",
       "      <td>2018-01-14 10:14:22</td>\n",
       "      <td>13.83</td>\n",
       "      <td>5739410935873</td>\n",
       "      <td>5</td>\n",
       "      <td>Urban</td>\n",
       "      <td>24.0</td>\n",
       "      <td>562.22</td>\n",
       "      <td>23.425833</td>\n",
       "    </tr>\n",
       "    <tr>\n",
       "      <th>1</th>\n",
       "      <td>South Michelleport</td>\n",
       "      <td>2018-03-04 18:24:09</td>\n",
       "      <td>30.24</td>\n",
       "      <td>2343912425577</td>\n",
       "      <td>72</td>\n",
       "      <td>Urban</td>\n",
       "      <td>31.0</td>\n",
       "      <td>758.00</td>\n",
       "      <td>24.451613</td>\n",
       "    </tr>\n",
       "  </tbody>\n",
       "</table>\n",
       "</div>"
      ],
      "text/plain": [
       "                 city                 date   fare        ride_id  \\\n",
       "0  Lake Jonathanshire  2018-01-14 10:14:22  13.83  5739410935873   \n",
       "1  South Michelleport  2018-03-04 18:24:09  30.24  2343912425577   \n",
       "\n",
       "   driver_count   type  Total Rides  Fare Sum   Avg Fare  \n",
       "0             5  Urban         24.0    562.22  23.425833  \n",
       "1            72  Urban         31.0    758.00  24.451613  "
      ]
     },
     "execution_count": 10,
     "metadata": {},
     "output_type": "execute_result"
    }
   ],
   "source": [
    "merge_urban = pd.merge(no_duplicates, urban_analysis, on=\"city\", how=\"outer\")\n",
    "merge_urban.dropna()\n",
    "merge_urban.head(2)\n"
   ]
  },
  {
   "cell_type": "markdown",
   "metadata": {},
   "source": [
    "SUBURBAN DATA"
   ]
  },
  {
   "cell_type": "code",
   "execution_count": 11,
   "metadata": {},
   "outputs": [
    {
     "data": {
      "text/html": [
       "<div>\n",
       "<style scoped>\n",
       "    .dataframe tbody tr th:only-of-type {\n",
       "        vertical-align: middle;\n",
       "    }\n",
       "\n",
       "    .dataframe tbody tr th {\n",
       "        vertical-align: top;\n",
       "    }\n",
       "\n",
       "    .dataframe thead th {\n",
       "        text-align: right;\n",
       "    }\n",
       "</style>\n",
       "<table border=\"1\" class=\"dataframe\">\n",
       "  <thead>\n",
       "    <tr style=\"text-align: right;\">\n",
       "      <th></th>\n",
       "      <th>Total Rides</th>\n",
       "      <th>Fare Sum</th>\n",
       "      <th>Avg Fare</th>\n",
       "    </tr>\n",
       "    <tr>\n",
       "      <th>city</th>\n",
       "      <th></th>\n",
       "      <th></th>\n",
       "      <th></th>\n",
       "    </tr>\n",
       "  </thead>\n",
       "  <tbody>\n",
       "    <tr>\n",
       "      <th>Barronchester</th>\n",
       "      <td>16</td>\n",
       "      <td>582.76</td>\n",
       "      <td>36.422500</td>\n",
       "    </tr>\n",
       "    <tr>\n",
       "      <th>Bethanyland</th>\n",
       "      <td>18</td>\n",
       "      <td>593.21</td>\n",
       "      <td>32.956111</td>\n",
       "    </tr>\n",
       "  </tbody>\n",
       "</table>\n",
       "</div>"
      ],
      "text/plain": [
       "               Total Rides  Fare Sum   Avg Fare\n",
       "city                                           \n",
       "Barronchester           16    582.76  36.422500\n",
       "Bethanyland             18    593.21  32.956111"
      ]
     },
     "execution_count": 11,
     "metadata": {},
     "output_type": "execute_result"
    }
   ],
   "source": [
    "suburban_data = merge_table.loc[merge_table[\"type\"] == \"Suburban\", :]\n",
    "suburban_data_noduplicates = no_duplicates.loc[merge_table[\"type\"] == \"Suburban\", :]\n",
    "city_sub_grouped = suburban_data.groupby([\"city\"])\n",
    "cities_sub = city_sub_grouped[\"ride_id\"].count()\n",
    "fare_sum_sub = city_sub_grouped[\"fare\"].sum()\n",
    "sub_avg_fare = fare_sum_sub / cities_sub\n",
    "driver_count_sub = suburban_data_noduplicates[\"driver_count\"].sum()\n",
    "\n",
    "suburban_analysis = pd.DataFrame({\"Total Rides\":cities_sub, \"Fare Sum\":fare_sum_sub, \"Avg Fare\":sub_avg_fare})\n",
    "suburban_analysis.head(2)"
   ]
  },
  {
   "cell_type": "code",
   "execution_count": 12,
   "metadata": {},
   "outputs": [
    {
     "data": {
      "text/html": [
       "<div>\n",
       "<style scoped>\n",
       "    .dataframe tbody tr th:only-of-type {\n",
       "        vertical-align: middle;\n",
       "    }\n",
       "\n",
       "    .dataframe tbody tr th {\n",
       "        vertical-align: top;\n",
       "    }\n",
       "\n",
       "    .dataframe thead th {\n",
       "        text-align: right;\n",
       "    }\n",
       "</style>\n",
       "<table border=\"1\" class=\"dataframe\">\n",
       "  <thead>\n",
       "    <tr style=\"text-align: right;\">\n",
       "      <th></th>\n",
       "      <th>city</th>\n",
       "      <th>date</th>\n",
       "      <th>fare</th>\n",
       "      <th>ride_id</th>\n",
       "      <th>driver_count</th>\n",
       "      <th>type</th>\n",
       "      <th>Total Rides</th>\n",
       "      <th>Fare Sum</th>\n",
       "      <th>Avg Fare</th>\n",
       "    </tr>\n",
       "  </thead>\n",
       "  <tbody>\n",
       "    <tr>\n",
       "      <th>66</th>\n",
       "      <td>Barronchester</td>\n",
       "      <td>2018-01-27 03:08:01</td>\n",
       "      <td>27.79</td>\n",
       "      <td>6653622887913</td>\n",
       "      <td>11</td>\n",
       "      <td>Suburban</td>\n",
       "      <td>16.0</td>\n",
       "      <td>582.76</td>\n",
       "      <td>36.422500</td>\n",
       "    </tr>\n",
       "    <tr>\n",
       "      <th>67</th>\n",
       "      <td>East Kentstad</td>\n",
       "      <td>2018-04-07 19:44:19</td>\n",
       "      <td>18.75</td>\n",
       "      <td>6575961095852</td>\n",
       "      <td>20</td>\n",
       "      <td>Suburban</td>\n",
       "      <td>13.0</td>\n",
       "      <td>387.70</td>\n",
       "      <td>29.823077</td>\n",
       "    </tr>\n",
       "  </tbody>\n",
       "</table>\n",
       "</div>"
      ],
      "text/plain": [
       "             city                 date   fare        ride_id  driver_count  \\\n",
       "66  Barronchester  2018-01-27 03:08:01  27.79  6653622887913            11   \n",
       "67  East Kentstad  2018-04-07 19:44:19  18.75  6575961095852            20   \n",
       "\n",
       "        type  Total Rides  Fare Sum   Avg Fare  \n",
       "66  Suburban         16.0    582.76  36.422500  \n",
       "67  Suburban         13.0    387.70  29.823077  "
      ]
     },
     "execution_count": 12,
     "metadata": {},
     "output_type": "execute_result"
    }
   ],
   "source": [
    "merge_suburban = pd.merge(no_duplicates, suburban_analysis, on=\"city\", how=\"outer\")\n",
    "merge_suburban.dropna().head(2)\n"
   ]
  },
  {
   "cell_type": "markdown",
   "metadata": {},
   "source": [
    "RURAL DATA"
   ]
  },
  {
   "cell_type": "code",
   "execution_count": 20,
   "metadata": {},
   "outputs": [
    {
     "data": {
      "text/html": [
       "<div>\n",
       "<style scoped>\n",
       "    .dataframe tbody tr th:only-of-type {\n",
       "        vertical-align: middle;\n",
       "    }\n",
       "\n",
       "    .dataframe tbody tr th {\n",
       "        vertical-align: top;\n",
       "    }\n",
       "\n",
       "    .dataframe thead th {\n",
       "        text-align: right;\n",
       "    }\n",
       "</style>\n",
       "<table border=\"1\" class=\"dataframe\">\n",
       "  <thead>\n",
       "    <tr style=\"text-align: right;\">\n",
       "      <th></th>\n",
       "      <th>city</th>\n",
       "      <th>date</th>\n",
       "      <th>fare</th>\n",
       "      <th>ride_id</th>\n",
       "      <th>driver_count</th>\n",
       "      <th>type</th>\n",
       "      <th>Total Rides</th>\n",
       "      <th>Fare Sum</th>\n",
       "      <th>Avg Fare</th>\n",
       "    </tr>\n",
       "  </thead>\n",
       "  <tbody>\n",
       "    <tr>\n",
       "      <th>102</th>\n",
       "      <td>Randallchester</td>\n",
       "      <td>2018-04-13 11:13:31</td>\n",
       "      <td>43.22</td>\n",
       "      <td>1076079536213</td>\n",
       "      <td>9</td>\n",
       "      <td>Rural</td>\n",
       "      <td>5.0</td>\n",
       "      <td>148.71</td>\n",
       "      <td>29.742</td>\n",
       "    </tr>\n",
       "    <tr>\n",
       "      <th>103</th>\n",
       "      <td>North Holly</td>\n",
       "      <td>2018-02-02 14:54:00</td>\n",
       "      <td>12.42</td>\n",
       "      <td>1985256326182</td>\n",
       "      <td>8</td>\n",
       "      <td>Rural</td>\n",
       "      <td>9.0</td>\n",
       "      <td>262.17</td>\n",
       "      <td>29.130</td>\n",
       "    </tr>\n",
       "  </tbody>\n",
       "</table>\n",
       "</div>"
      ],
      "text/plain": [
       "               city                 date   fare        ride_id  driver_count  \\\n",
       "102  Randallchester  2018-04-13 11:13:31  43.22  1076079536213             9   \n",
       "103     North Holly  2018-02-02 14:54:00  12.42  1985256326182             8   \n",
       "\n",
       "      type  Total Rides  Fare Sum  Avg Fare  \n",
       "102  Rural          5.0    148.71    29.742  \n",
       "103  Rural          9.0    262.17    29.130  "
      ]
     },
     "execution_count": 20,
     "metadata": {},
     "output_type": "execute_result"
    }
   ],
   "source": [
    "rural_data = merge_table.loc[merge_table[\"type\"] == \"Rural\", :]\n",
    "rural_data_noduplicates = no_duplicates.loc[merge_table[\"type\"] == \"Rural\", :]\n",
    "city_r_grouped = rural_data.groupby([\"city\"])\n",
    "cities_r = city_r_grouped[\"ride_id\"].count()\n",
    "fare_r_sum = city_r_grouped[\"fare\"].sum()\n",
    "r_avg_fare = fare_r_sum / cities_r\n",
    "driver_count_r = rural_data_noduplicates[\"driver_count\"].sum()\n",
    "\n",
    "rural_analysis = pd.DataFrame({\"Total Rides\":cities_r, \"Fare Sum\":fare_r_sum, \"Avg Fare\":r_avg_fare})\n",
    "\n",
    "merge_rural = pd.merge(no_duplicates, rural_analysis, on=\"city\", how=\"outer\")\n",
    "merge_rural.dropna().head(2)"
   ]
  },
  {
   "cell_type": "code",
   "execution_count": 47,
   "metadata": {},
   "outputs": [
    {
     "data": {
      "text/plain": [
       "<matplotlib.legend.Legend at 0x20ddc824898>"
      ]
     },
     "execution_count": 47,
     "metadata": {},
     "output_type": "execute_result"
    },
    {
     "data": {
      "image/png": "[encoded data removed]",
      "text/plain": [
       "<Figure size 432x288 with 1 Axes>"
      ]
     },
     "metadata": {
      "needs_background": "light"
     },
     "output_type": "display_data"
    }
   ],
   "source": [
    "plt.scatter(merge_urban[\"Total Rides\"], merge_urban[\"Avg Fare\"], s=(merge_urban[\"driver_count\"]*10), c=\"orange\", edgecolors=\"black\", alpha=0.8, label=\"urban\")\n",
    "plt.scatter(merge_suburban[\"Total Rides\"], merge_suburban[\"Avg Fare\"], s=(merge_suburban[\"driver_count\"]*10), c=\"blue\", edgecolors=\"black\", alpha=0.8, label=\"suburban\")\n",
    "plt.scatter(merge_rural[\"Total Rides\"], merge_rural[\"Avg Fare\"], s=(merge_rural[\"driver_count\"]*10), c=\"yellow\", edgecolors=\"black\", alpha=0.8, label=\"rural\")\n",
    "plt.xlabel(\"Total Number of Rides (Per City)\")\n",
    "plt.ylabel(\"Average Fare ($)\")\n",
    "plt.title(\"Pyber Ride Sharing Data (2016)\")\n",
    "plt.legend(loc=\"best\",fontsize=\"small\",title=\"City Types\",markerscale=0.5, labelspacing=1)\n"
   ]
  },
  {
   "cell_type": "markdown",
   "metadata": {},
   "source": [
    "PERCENTAGE OF TOTAL RIDES BY CITY"
   ]
  },
  {
   "cell_type": "markdown",
   "metadata": {},
   "source": [
    "## Total Fares by City Type"
   ]
  },
  {
   "cell_type": "code",
   "execution_count": 52,
   "metadata": {},
   "outputs": [
    {
     "data": {
      "image/png": "[encoded data removed]",
      "text/plain": [
       "<Figure size 432x288 with 1 Axes>"
      ]
     },
     "metadata": {},
     "output_type": "display_data"
    }
   ],
   "source": [
    "size = [fare_sum.sum(),fare_sum_sub.sum(),fare_r_sum.sum()]\n",
    "labels = [\"Urban\", \"Suburban\", \"Rural\"]\n",
    "colors = [\"coral\", \"skyblue\", \"gold\"]\n",
    "explode = [0.1,0,0]\n",
    "plt.pie(size, explode=explode, labels=labels, colors=colors,autopct=\"%1.1f%%\", shadow=True, startangle=270)\n",
    "plt.axis(\"equal\")\n",
    "plt.title(\"% of Total Fares by City Type\")\n",
    "plt.savefig(\"%TotalFaresbyCityType.png\")"
   ]
  },
  {
   "cell_type": "markdown",
   "metadata": {},
   "source": [
    "## Total Rides by City Type"
   ]
  },
  {
   "cell_type": "code",
   "execution_count": 53,
   "metadata": {},
   "outputs": [
    {
     "data": {
      "image/png": "[encoded data removed]",
      "text/plain": [
       "<Figure size 432x288 with 1 Axes>"
      ]
     },
     "metadata": {},
     "output_type": "display_data"
    }
   ],
   "source": [
    "# Calculate Ride Percents\n",
    "size = [cities.sum(),cities_sub.sum(),cities_r.sum()]\n",
    "labels = [\"Urban\", \"Suburban\", \"Rural\"]\n",
    "colors = [\"coral\", \"skyblue\", \"gold\"]\n",
    "explode = [0.1,0,0]\n",
    "plt.pie(size, explode=explode, labels=labels, colors=colors,autopct=\"%1.1f%%\", shadow=True, startangle=270)\n",
    "plt.axis(\"equal\")\n",
    "plt.title(\"% of Total Rides by City Type\")\n",
    "plt.savefig(\"%TotalRidesbyCityType.png\")\n"
   ]
  },
  {
   "cell_type": "markdown",
   "metadata": {},
   "source": [
    "## Total Drivers by City Type"
   ]
  },
  {
   "cell_type": "code",
   "execution_count": 54,
   "metadata": {},
   "outputs": [
    {
     "data": {
      "image/png": "[encoded data removed]",
      "text/plain": [
       "<Figure size 432x288 with 1 Axes>"
      ]
     },
     "metadata": {},
     "output_type": "display_data"
    }
   ],
   "source": [
    "# Calculate Driver Percents\n",
    "driver_count\n",
    "driver_count_sub\n",
    "driver_count_r\n",
    "\n",
    "size = [driver_count,driver_count_sub,driver_count_r]\n",
    "labels = [\"Urban\", \"Suburban\", \"Rural\"]\n",
    "colors = [\"coral\", \"skyblue\", \"gold\"]\n",
    "explode = [0.1,0,0]\n",
    "plt.pie(size, explode=explode, labels=labels, colors=colors,autopct=\"%1.1f%%\", shadow=True, startangle=200)\n",
    "plt.axis(\"equal\")\n",
    "plt.title(\"% of Total Drivers by City Type\")\n",
    "plt.savefig(\"%TotalDriversbyCityType.png\")\n"
   ]
  },
  {
   "cell_type": "code",
   "execution_count": null,
   "metadata": {},
   "outputs": [],
   "source": []
  }
 ],
 "metadata": {
  "anaconda-cloud": {},
  "kernelspec": {
   "display_name": "Python 3",
   "language": "python",
   "name": "python3"
  },
  "language_info": {
   "codemirror_mode": {
    "name": "ipython",
    "version": 3
   },
   "file_extension": ".py",
   "mimetype": "text/x-python",
   "name": "python",
   "nbconvert_exporter": "python",
   "pygments_lexer": "ipython3",
   "version": "3.6.9"
  },
  "latex_envs": {
   "LaTeX_envs_menu_present": true,
   "autoclose": false,
   "autocomplete": true,
   "bibliofile": "biblio.bib",
   "cite_by": "apalike",
   "current_citInitial": 1,
   "eqLabelWithNumbers": true,
   "eqNumInitial": 1,
   "hotkeys": {
    "equation": "Ctrl-E",
    "itemize": "Ctrl-I"
   },
   "labels_anchors": false,
   "latex_user_defs": false,
   "report_style_numbering": false,
   "user_envs_cfg": false
  }
 },
 "nbformat": 4,
 "nbformat_minor": 2
}
